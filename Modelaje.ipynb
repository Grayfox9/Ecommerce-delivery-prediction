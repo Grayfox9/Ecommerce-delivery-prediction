{
 "cells": [
  {
   "cell_type": "markdown",
   "metadata": {},
   "source": [
    "# Proyecto Individual 02\n",
    "\n",
    "En esta ocasión, se presenta el desarrollo del segundo proyecto individual. \n",
    "\n",
    "**El proyecto posee el siguiente contexto**:\n",
    "\n",
    "La logística es un mercado vital en el mundo globalizado y conectado donde vivimos, coordinar el transporte de toda la cadena de suministros desde donde son producidos los bienes hasta que llegan al cliente final es una tarea compleja, que debe ser planificada y ejecutada correctamente para el funcionamiento del comercio, tanto local como mundial.\n",
    "\n",
    "Gracias a las nuevas herramientas como el uso de geolocalizadores, registros digitales de entrada/salida de los centros de distribución, distintos medios de transporte terrestres, marítimos y aéreos, además de las herramientas de IoT en toda la cadena de suministro y producción, es posible acumular muchísimos datos, que pueden ser analizados para optimizar los procesos logísticos.\n",
    "\n",
    "\n",
    "**La consigna tiene la siguiente problemática**:\n",
    "\n",
    "Somos parte de una empresa de logística que trabaja para un portal importante de E-Commerce, y nuestro Team Leader nos da la tarea de implementar un modelo que nos permita predecir si un envío llegará a tiempo o no, según la información contenida en el dataset puesto a disposición para poder prestar atención y mejor seguimiento a aquellos envíos que pueden llegar a dar problemas.\n",
    "\n",
    "**Métrica de evaluacion de predicción**:\n",
    "\n",
    "La evaluacion de este proyecto es mediante la maginutd de la Exhaustividad (Recall) de la matriz de confusión (Confusión Matrix):\n",
    "\n",
    "$$\n",
    "Recall = TP / (TP + FN)\n",
    "$$\n",
    "\n",
    "\n",
    "Donde TP se refiere a los resultados \"Verdaderos positivos\" (True Positives) y FN son los \"Falsos Negativos\" (False Negatives).\n",
    "\n",
    "\n",
    "**Para el desarrollo de este proyecto se tiene provisto los siguientes archivos**:\n",
    "\n",
    "\n",
    "- 'E-Commerce_train.xlsx', con 8998 observaciones y 12 dimensiones, incluyendo información sobre si el envío llegó a tiempo o no en el momento del registro.\n",
    "- 'E-Commerce_test.xlsx', con 2000 observaciones y 11 dimensiones, sin incluir información sobre si el envío llegó a tiempo o no en el momento del registro.\n",
    "\n",
    "**Descripción de las dimensiones**:\n",
    "\n",
    "- ID: identificador del registro de orden (valor entero).\n",
    "- Warehouse_block: Almacén de distribución de donde salió la orden (A a F).\n",
    "- Mode_of_Shipment: Medio de transporte (Flight, Road, Ship).\n",
    "- Customer_care_calls: Número de llamadas a atención al cliente que hubo por esa orden. (valores enteros del 2 al 7)\n",
    "- Customer_rating: Puntaje del cliente (valores enteros 1 al 5).\n",
    "- Cost_of_the_Product: Costo del producto (valor numérico entero de 96 a 310).\n",
    "- Prior_purchases: Número de compras previas realizadas por el cliente (valor numérico entero de 2 a 10).\n",
    "- Product_importance: Nivel de importancia del producto (low, medium, high).\n",
    "- Gender: Género del comprador (F, M).\n",
    "- Discount_offered: Porcentaje de descuento ofrecido por esa compra (valor numérico entero de 1 a 65):\n",
    "- Weight_in_gms: Peso del paquete de la orden, en gramos (valor numérico entero de 1001 a 7846).\n",
    "- Reached.on.Time_Y.N: Información sobre la llegada del paquete a destino (1 si llegó a tiempo, 0 si no llegó a tiempo)."
   ]
  },
  {
   "cell_type": "markdown",
   "metadata": {},
   "source": [
    "## Workflow del proyecto\n",
    "\n",
    "Para este proyecto se desarrollará mediante pasos que nos permitirán crear un modelo predictivo para la entrega de paquetes con los datasets provistos.\n",
    "\n",
    "Se avanzara de acuerdo a los siguientes pasos:\n",
    "\n",
    "1. **Exploración de la data**\n",
    "2. **Preprocesamiento de la data**\n",
    "3. **Division de entrenamiento/testeo de la data**\n",
    "4. **Entrenamiento del modelo predictivo**\n",
    "5. **Aplicacion del modelo predictivo**\n",
    "6. **Predicción**"
   ]
  },
  {
   "cell_type": "markdown",
   "metadata": {},
   "source": [
    "## Exploración de los datos\n",
    "\n"
   ]
  },
  {
   "cell_type": "markdown",
   "metadata": {},
   "source": [
    "En la primera parte del proyecto, el objetivo es la exploración"
   ]
  },
  {
   "cell_type": "code",
   "execution_count": 1,
   "metadata": {},
   "outputs": [],
   "source": [
    "#Importamos las librerias para realizar los ajustes necesarios.\n",
    "\n",
    "import pandas as pd\n",
    "import numpy as np\n",
    "import matplotlib.pyplot as plt\n",
    "import seaborn as sns"
   ]
  },
  {
   "cell_type": "code",
   "execution_count": 2,
   "metadata": {},
   "outputs": [
    {
     "data": {
      "text/html": [
       "<div>\n",
       "<style scoped>\n",
       "    .dataframe tbody tr th:only-of-type {\n",
       "        vertical-align: middle;\n",
       "    }\n",
       "\n",
       "    .dataframe tbody tr th {\n",
       "        vertical-align: top;\n",
       "    }\n",
       "\n",
       "    .dataframe thead th {\n",
       "        text-align: right;\n",
       "    }\n",
       "</style>\n",
       "<table border=\"1\" class=\"dataframe\">\n",
       "  <thead>\n",
       "    <tr style=\"text-align: right;\">\n",
       "      <th></th>\n",
       "      <th>ID</th>\n",
       "      <th>Warehouse_block</th>\n",
       "      <th>Mode_of_Shipment</th>\n",
       "      <th>Customer_care_calls</th>\n",
       "      <th>Customer_rating</th>\n",
       "      <th>Cost_of_the_Product</th>\n",
       "      <th>Prior_purchases</th>\n",
       "      <th>Product_importance</th>\n",
       "      <th>Gender</th>\n",
       "      <th>Discount_offered</th>\n",
       "      <th>Weight_in_gms</th>\n",
       "      <th>Reached.on.Time_Y.N</th>\n",
       "    </tr>\n",
       "  </thead>\n",
       "  <tbody>\n",
       "    <tr>\n",
       "      <th>0</th>\n",
       "      <td>1</td>\n",
       "      <td>D</td>\n",
       "      <td>Flight</td>\n",
       "      <td>4</td>\n",
       "      <td>2</td>\n",
       "      <td>177</td>\n",
       "      <td>3</td>\n",
       "      <td>low</td>\n",
       "      <td>F</td>\n",
       "      <td>44</td>\n",
       "      <td>1233</td>\n",
       "      <td>1</td>\n",
       "    </tr>\n",
       "    <tr>\n",
       "      <th>1</th>\n",
       "      <td>2</td>\n",
       "      <td>F</td>\n",
       "      <td>Flight</td>\n",
       "      <td>4</td>\n",
       "      <td>5</td>\n",
       "      <td>216</td>\n",
       "      <td>2</td>\n",
       "      <td>low</td>\n",
       "      <td>M</td>\n",
       "      <td>59</td>\n",
       "      <td>3088</td>\n",
       "      <td>1</td>\n",
       "    </tr>\n",
       "    <tr>\n",
       "      <th>2</th>\n",
       "      <td>3</td>\n",
       "      <td>A</td>\n",
       "      <td>Flight</td>\n",
       "      <td>2</td>\n",
       "      <td>2</td>\n",
       "      <td>183</td>\n",
       "      <td>4</td>\n",
       "      <td>low</td>\n",
       "      <td>M</td>\n",
       "      <td>48</td>\n",
       "      <td>3374</td>\n",
       "      <td>1</td>\n",
       "    </tr>\n",
       "    <tr>\n",
       "      <th>3</th>\n",
       "      <td>4</td>\n",
       "      <td>B</td>\n",
       "      <td>Flight</td>\n",
       "      <td>3</td>\n",
       "      <td>3</td>\n",
       "      <td>176</td>\n",
       "      <td>4</td>\n",
       "      <td>medium</td>\n",
       "      <td>M</td>\n",
       "      <td>10</td>\n",
       "      <td>1177</td>\n",
       "      <td>1</td>\n",
       "    </tr>\n",
       "    <tr>\n",
       "      <th>4</th>\n",
       "      <td>5</td>\n",
       "      <td>C</td>\n",
       "      <td>Flight</td>\n",
       "      <td>2</td>\n",
       "      <td>2</td>\n",
       "      <td>184</td>\n",
       "      <td>3</td>\n",
       "      <td>medium</td>\n",
       "      <td>F</td>\n",
       "      <td>46</td>\n",
       "      <td>2484</td>\n",
       "      <td>1</td>\n",
       "    </tr>\n",
       "    <tr>\n",
       "      <th>...</th>\n",
       "      <td>...</td>\n",
       "      <td>...</td>\n",
       "      <td>...</td>\n",
       "      <td>...</td>\n",
       "      <td>...</td>\n",
       "      <td>...</td>\n",
       "      <td>...</td>\n",
       "      <td>...</td>\n",
       "      <td>...</td>\n",
       "      <td>...</td>\n",
       "      <td>...</td>\n",
       "      <td>...</td>\n",
       "    </tr>\n",
       "    <tr>\n",
       "      <th>8994</th>\n",
       "      <td>8995</td>\n",
       "      <td>D</td>\n",
       "      <td>Ship</td>\n",
       "      <td>3</td>\n",
       "      <td>1</td>\n",
       "      <td>217</td>\n",
       "      <td>3</td>\n",
       "      <td>low</td>\n",
       "      <td>F</td>\n",
       "      <td>1</td>\n",
       "      <td>4177</td>\n",
       "      <td>1</td>\n",
       "    </tr>\n",
       "    <tr>\n",
       "      <th>8995</th>\n",
       "      <td>8996</td>\n",
       "      <td>F</td>\n",
       "      <td>Ship</td>\n",
       "      <td>5</td>\n",
       "      <td>3</td>\n",
       "      <td>232</td>\n",
       "      <td>3</td>\n",
       "      <td>medium</td>\n",
       "      <td>M</td>\n",
       "      <td>3</td>\n",
       "      <td>4526</td>\n",
       "      <td>0</td>\n",
       "    </tr>\n",
       "    <tr>\n",
       "      <th>8996</th>\n",
       "      <td>8997</td>\n",
       "      <td>A</td>\n",
       "      <td>Ship</td>\n",
       "      <td>4</td>\n",
       "      <td>5</td>\n",
       "      <td>260</td>\n",
       "      <td>3</td>\n",
       "      <td>medium</td>\n",
       "      <td>F</td>\n",
       "      <td>6</td>\n",
       "      <td>4221</td>\n",
       "      <td>0</td>\n",
       "    </tr>\n",
       "    <tr>\n",
       "      <th>8997</th>\n",
       "      <td>8998</td>\n",
       "      <td>B</td>\n",
       "      <td>Ship</td>\n",
       "      <td>4</td>\n",
       "      <td>2</td>\n",
       "      <td>184</td>\n",
       "      <td>3</td>\n",
       "      <td>medium</td>\n",
       "      <td>F</td>\n",
       "      <td>5</td>\n",
       "      <td>5931</td>\n",
       "      <td>1</td>\n",
       "    </tr>\n",
       "    <tr>\n",
       "      <th>8998</th>\n",
       "      <td>8999</td>\n",
       "      <td>C</td>\n",
       "      <td>Ship</td>\n",
       "      <td>5</td>\n",
       "      <td>4</td>\n",
       "      <td>145</td>\n",
       "      <td>4</td>\n",
       "      <td>low</td>\n",
       "      <td>M</td>\n",
       "      <td>4</td>\n",
       "      <td>4790</td>\n",
       "      <td>0</td>\n",
       "    </tr>\n",
       "  </tbody>\n",
       "</table>\n",
       "<p>8999 rows × 12 columns</p>\n",
       "</div>"
      ],
      "text/plain": [
       "        ID Warehouse_block Mode_of_Shipment  Customer_care_calls  \\\n",
       "0        1               D           Flight                    4   \n",
       "1        2               F           Flight                    4   \n",
       "2        3               A           Flight                    2   \n",
       "3        4               B           Flight                    3   \n",
       "4        5               C           Flight                    2   \n",
       "...    ...             ...              ...                  ...   \n",
       "8994  8995               D             Ship                    3   \n",
       "8995  8996               F             Ship                    5   \n",
       "8996  8997               A             Ship                    4   \n",
       "8997  8998               B             Ship                    4   \n",
       "8998  8999               C             Ship                    5   \n",
       "\n",
       "      Customer_rating  Cost_of_the_Product  Prior_purchases  \\\n",
       "0                   2                  177                3   \n",
       "1                   5                  216                2   \n",
       "2                   2                  183                4   \n",
       "3                   3                  176                4   \n",
       "4                   2                  184                3   \n",
       "...               ...                  ...              ...   \n",
       "8994                1                  217                3   \n",
       "8995                3                  232                3   \n",
       "8996                5                  260                3   \n",
       "8997                2                  184                3   \n",
       "8998                4                  145                4   \n",
       "\n",
       "     Product_importance Gender  Discount_offered  Weight_in_gms  \\\n",
       "0                   low      F                44           1233   \n",
       "1                   low      M                59           3088   \n",
       "2                   low      M                48           3374   \n",
       "3                medium      M                10           1177   \n",
       "4                medium      F                46           2484   \n",
       "...                 ...    ...               ...            ...   \n",
       "8994                low      F                 1           4177   \n",
       "8995             medium      M                 3           4526   \n",
       "8996             medium      F                 6           4221   \n",
       "8997             medium      F                 5           5931   \n",
       "8998                low      M                 4           4790   \n",
       "\n",
       "      Reached.on.Time_Y.N  \n",
       "0                       1  \n",
       "1                       1  \n",
       "2                       1  \n",
       "3                       1  \n",
       "4                       1  \n",
       "...                   ...  \n",
       "8994                    1  \n",
       "8995                    0  \n",
       "8996                    0  \n",
       "8997                    1  \n",
       "8998                    0  \n",
       "\n",
       "[8999 rows x 12 columns]"
      ]
     },
     "execution_count": 2,
     "metadata": {},
     "output_type": "execute_result"
    }
   ],
   "source": [
    "#Leemos el archivo \"E-Commerce_train.xlsx\" y lo cargamos en forma de DataFrame con ayuda de pandas\n",
    "E_train = pd.read_excel(r'C:\\Users\\Mimar\\Desktop\\P\\2\\Datathon\\E-Commerce_train.xlsx')\n",
    "E_train"
   ]
  },
  {
   "cell_type": "code",
   "execution_count": 4,
   "metadata": {},
   "outputs": [
    {
     "data": {
      "text/html": [
       "<div>\n",
       "<style scoped>\n",
       "    .dataframe tbody tr th:only-of-type {\n",
       "        vertical-align: middle;\n",
       "    }\n",
       "\n",
       "    .dataframe tbody tr th {\n",
       "        vertical-align: top;\n",
       "    }\n",
       "\n",
       "    .dataframe thead th {\n",
       "        text-align: right;\n",
       "    }\n",
       "</style>\n",
       "<table border=\"1\" class=\"dataframe\">\n",
       "  <thead>\n",
       "    <tr style=\"text-align: right;\">\n",
       "      <th></th>\n",
       "      <th>ID</th>\n",
       "      <th>Warehouse_block</th>\n",
       "      <th>Mode_of_Shipment</th>\n",
       "      <th>Customer_care_calls</th>\n",
       "      <th>Customer_rating</th>\n",
       "      <th>Cost_of_the_Product</th>\n",
       "      <th>Prior_purchases</th>\n",
       "      <th>Product_importance</th>\n",
       "      <th>Gender</th>\n",
       "      <th>Discount_offered</th>\n",
       "      <th>Weight_in_gms</th>\n",
       "      <th>Reached.on.Time_Y.N</th>\n",
       "    </tr>\n",
       "  </thead>\n",
       "  <tbody>\n",
       "  </tbody>\n",
       "</table>\n",
       "</div>"
      ],
      "text/plain": [
       "Empty DataFrame\n",
       "Columns: [ID, Warehouse_block, Mode_of_Shipment, Customer_care_calls, Customer_rating, Cost_of_the_Product, Prior_purchases, Product_importance, Gender, Discount_offered, Weight_in_gms, Reached.on.Time_Y.N]\n",
       "Index: []"
      ]
     },
     "execution_count": 4,
     "metadata": {},
     "output_type": "execute_result"
    }
   ],
   "source": [
    "#Buscamos en este dataframe si existen instancias duplicadas.\n",
    "E_train[E_train.duplicated()]\n"
   ]
  },
  {
   "cell_type": "code",
   "execution_count": 5,
   "metadata": {},
   "outputs": [
    {
     "data": {
      "text/plain": [
       "0"
      ]
     },
     "execution_count": 5,
     "metadata": {},
     "output_type": "execute_result"
    }
   ],
   "source": [
    "#Corroboramos la cantidad de datos duplicados\n",
    "E_train.duplicated().sum()"
   ]
  },
  {
   "cell_type": "code",
   "execution_count": 6,
   "metadata": {},
   "outputs": [
    {
     "data": {
      "text/html": [
       "<div>\n",
       "<style scoped>\n",
       "    .dataframe tbody tr th:only-of-type {\n",
       "        vertical-align: middle;\n",
       "    }\n",
       "\n",
       "    .dataframe tbody tr th {\n",
       "        vertical-align: top;\n",
       "    }\n",
       "\n",
       "    .dataframe thead th {\n",
       "        text-align: right;\n",
       "    }\n",
       "</style>\n",
       "<table border=\"1\" class=\"dataframe\">\n",
       "  <thead>\n",
       "    <tr style=\"text-align: right;\">\n",
       "      <th></th>\n",
       "      <th>ID</th>\n",
       "      <th>Warehouse_block</th>\n",
       "      <th>Mode_of_Shipment</th>\n",
       "      <th>Customer_care_calls</th>\n",
       "      <th>Customer_rating</th>\n",
       "      <th>Cost_of_the_Product</th>\n",
       "      <th>Prior_purchases</th>\n",
       "      <th>Product_importance</th>\n",
       "      <th>Gender</th>\n",
       "      <th>Discount_offered</th>\n",
       "      <th>Weight_in_gms</th>\n",
       "      <th>Reached.on.Time_Y.N</th>\n",
       "    </tr>\n",
       "  </thead>\n",
       "  <tbody>\n",
       "    <tr>\n",
       "      <th>332</th>\n",
       "      <td>333</td>\n",
       "      <td>A</td>\n",
       "      <td>Ship</td>\n",
       "      <td>3</td>\n",
       "      <td>5</td>\n",
       "      <td>215</td>\n",
       "      <td>3</td>\n",
       "      <td>medium</td>\n",
       "      <td>F</td>\n",
       "      <td>22</td>\n",
       "      <td>2585</td>\n",
       "      <td>1</td>\n",
       "    </tr>\n",
       "  </tbody>\n",
       "</table>\n",
       "</div>"
      ],
      "text/plain": [
       "      ID Warehouse_block Mode_of_Shipment  Customer_care_calls  \\\n",
       "332  333               A             Ship                    3   \n",
       "\n",
       "     Customer_rating  Cost_of_the_Product  Prior_purchases Product_importance  \\\n",
       "332                5                  215                3             medium   \n",
       "\n",
       "    Gender  Discount_offered  Weight_in_gms  Reached.on.Time_Y.N  \n",
       "332      F                22           2585                    1  "
      ]
     },
     "execution_count": 6,
     "metadata": {},
     "output_type": "execute_result"
    }
   ],
   "source": [
    "#Corroboramos, con alguna fila al azar de cuadro anterior.\n",
    "\n",
    "E_train[E_train.ID == 333]"
   ]
  },
  {
   "cell_type": "code",
   "execution_count": 7,
   "metadata": {},
   "outputs": [
    {
     "data": {
      "text/plain": [
       "ID                     0\n",
       "Warehouse_block        0\n",
       "Mode_of_Shipment       0\n",
       "Customer_care_calls    0\n",
       "Customer_rating        0\n",
       "Cost_of_the_Product    0\n",
       "Prior_purchases        0\n",
       "Product_importance     0\n",
       "Gender                 0\n",
       "Discount_offered       0\n",
       "Weight_in_gms          0\n",
       "Reached.on.Time_Y.N    0\n",
       "dtype: int64"
      ]
     },
     "execution_count": 7,
     "metadata": {},
     "output_type": "execute_result"
    }
   ],
   "source": [
    "#Corroboramos los valores nulos\n",
    "E_train.isnull().sum()"
   ]
  },
  {
   "cell_type": "code",
   "execution_count": 8,
   "metadata": {},
   "outputs": [
    {
     "name": "stdout",
     "output_type": "stream",
     "text": [
      "<class 'pandas.core.frame.DataFrame'>\n",
      "RangeIndex: 8999 entries, 0 to 8998\n",
      "Data columns (total 12 columns):\n",
      " #   Column               Non-Null Count  Dtype \n",
      "---  ------               --------------  ----- \n",
      " 0   ID                   8999 non-null   int64 \n",
      " 1   Warehouse_block      8999 non-null   object\n",
      " 2   Mode_of_Shipment     8999 non-null   object\n",
      " 3   Customer_care_calls  8999 non-null   int64 \n",
      " 4   Customer_rating      8999 non-null   int64 \n",
      " 5   Cost_of_the_Product  8999 non-null   int64 \n",
      " 6   Prior_purchases      8999 non-null   int64 \n",
      " 7   Product_importance   8999 non-null   object\n",
      " 8   Gender               8999 non-null   object\n",
      " 9   Discount_offered     8999 non-null   int64 \n",
      " 10  Weight_in_gms        8999 non-null   int64 \n",
      " 11  Reached.on.Time_Y.N  8999 non-null   int64 \n",
      "dtypes: int64(8), object(4)\n",
      "memory usage: 843.8+ KB\n"
     ]
    }
   ],
   "source": [
    "#Después de esto, corroboramos el tipo de datos para cada columna\n",
    "E_train.info()"
   ]
  },
  {
   "cell_type": "code",
   "execution_count": null,
   "metadata": {},
   "outputs": [],
   "source": []
  },
  {
   "cell_type": "code",
   "execution_count": 9,
   "metadata": {},
   "outputs": [
    {
     "data": {
      "text/html": [
       "<div>\n",
       "<style scoped>\n",
       "    .dataframe tbody tr th:only-of-type {\n",
       "        vertical-align: middle;\n",
       "    }\n",
       "\n",
       "    .dataframe tbody tr th {\n",
       "        vertical-align: top;\n",
       "    }\n",
       "\n",
       "    .dataframe thead th {\n",
       "        text-align: right;\n",
       "    }\n",
       "</style>\n",
       "<table border=\"1\" class=\"dataframe\">\n",
       "  <thead>\n",
       "    <tr style=\"text-align: right;\">\n",
       "      <th></th>\n",
       "      <th>ID</th>\n",
       "      <th>Warehouse_block</th>\n",
       "      <th>Mode_of_Shipment</th>\n",
       "      <th>Customer_care_calls</th>\n",
       "      <th>Customer_rating</th>\n",
       "      <th>Cost_of_the_Product</th>\n",
       "      <th>Prior_purchases</th>\n",
       "      <th>Product_importance</th>\n",
       "      <th>Gender</th>\n",
       "      <th>Discount_offered</th>\n",
       "      <th>Weight_in_gms</th>\n",
       "    </tr>\n",
       "  </thead>\n",
       "  <tbody>\n",
       "    <tr>\n",
       "      <th>0</th>\n",
       "      <td>9000</td>\n",
       "      <td>F</td>\n",
       "      <td>Ship</td>\n",
       "      <td>5</td>\n",
       "      <td>1</td>\n",
       "      <td>189</td>\n",
       "      <td>2</td>\n",
       "      <td>medium</td>\n",
       "      <td>M</td>\n",
       "      <td>10</td>\n",
       "      <td>5248</td>\n",
       "    </tr>\n",
       "    <tr>\n",
       "      <th>1</th>\n",
       "      <td>9001</td>\n",
       "      <td>D</td>\n",
       "      <td>Ship</td>\n",
       "      <td>5</td>\n",
       "      <td>3</td>\n",
       "      <td>150</td>\n",
       "      <td>2</td>\n",
       "      <td>high</td>\n",
       "      <td>F</td>\n",
       "      <td>9</td>\n",
       "      <td>4446</td>\n",
       "    </tr>\n",
       "    <tr>\n",
       "      <th>2</th>\n",
       "      <td>9002</td>\n",
       "      <td>F</td>\n",
       "      <td>Ship</td>\n",
       "      <td>3</td>\n",
       "      <td>3</td>\n",
       "      <td>200</td>\n",
       "      <td>3</td>\n",
       "      <td>low</td>\n",
       "      <td>M</td>\n",
       "      <td>3</td>\n",
       "      <td>5739</td>\n",
       "    </tr>\n",
       "    <tr>\n",
       "      <th>3</th>\n",
       "      <td>9003</td>\n",
       "      <td>A</td>\n",
       "      <td>Ship</td>\n",
       "      <td>5</td>\n",
       "      <td>1</td>\n",
       "      <td>133</td>\n",
       "      <td>2</td>\n",
       "      <td>medium</td>\n",
       "      <td>M</td>\n",
       "      <td>1</td>\n",
       "      <td>4643</td>\n",
       "    </tr>\n",
       "    <tr>\n",
       "      <th>4</th>\n",
       "      <td>9004</td>\n",
       "      <td>B</td>\n",
       "      <td>Ship</td>\n",
       "      <td>4</td>\n",
       "      <td>2</td>\n",
       "      <td>260</td>\n",
       "      <td>3</td>\n",
       "      <td>low</td>\n",
       "      <td>M</td>\n",
       "      <td>4</td>\n",
       "      <td>5504</td>\n",
       "    </tr>\n",
       "    <tr>\n",
       "      <th>...</th>\n",
       "      <td>...</td>\n",
       "      <td>...</td>\n",
       "      <td>...</td>\n",
       "      <td>...</td>\n",
       "      <td>...</td>\n",
       "      <td>...</td>\n",
       "      <td>...</td>\n",
       "      <td>...</td>\n",
       "      <td>...</td>\n",
       "      <td>...</td>\n",
       "      <td>...</td>\n",
       "    </tr>\n",
       "    <tr>\n",
       "      <th>1995</th>\n",
       "      <td>10995</td>\n",
       "      <td>A</td>\n",
       "      <td>Ship</td>\n",
       "      <td>4</td>\n",
       "      <td>1</td>\n",
       "      <td>252</td>\n",
       "      <td>5</td>\n",
       "      <td>medium</td>\n",
       "      <td>F</td>\n",
       "      <td>1</td>\n",
       "      <td>1538</td>\n",
       "    </tr>\n",
       "    <tr>\n",
       "      <th>1996</th>\n",
       "      <td>10996</td>\n",
       "      <td>B</td>\n",
       "      <td>Ship</td>\n",
       "      <td>4</td>\n",
       "      <td>1</td>\n",
       "      <td>232</td>\n",
       "      <td>5</td>\n",
       "      <td>medium</td>\n",
       "      <td>F</td>\n",
       "      <td>6</td>\n",
       "      <td>1247</td>\n",
       "    </tr>\n",
       "    <tr>\n",
       "      <th>1997</th>\n",
       "      <td>10997</td>\n",
       "      <td>C</td>\n",
       "      <td>Ship</td>\n",
       "      <td>5</td>\n",
       "      <td>4</td>\n",
       "      <td>242</td>\n",
       "      <td>5</td>\n",
       "      <td>low</td>\n",
       "      <td>F</td>\n",
       "      <td>4</td>\n",
       "      <td>1155</td>\n",
       "    </tr>\n",
       "    <tr>\n",
       "      <th>1998</th>\n",
       "      <td>10998</td>\n",
       "      <td>F</td>\n",
       "      <td>Ship</td>\n",
       "      <td>5</td>\n",
       "      <td>2</td>\n",
       "      <td>223</td>\n",
       "      <td>6</td>\n",
       "      <td>medium</td>\n",
       "      <td>M</td>\n",
       "      <td>2</td>\n",
       "      <td>1210</td>\n",
       "    </tr>\n",
       "    <tr>\n",
       "      <th>1999</th>\n",
       "      <td>10999</td>\n",
       "      <td>D</td>\n",
       "      <td>Ship</td>\n",
       "      <td>2</td>\n",
       "      <td>5</td>\n",
       "      <td>155</td>\n",
       "      <td>5</td>\n",
       "      <td>low</td>\n",
       "      <td>F</td>\n",
       "      <td>6</td>\n",
       "      <td>1639</td>\n",
       "    </tr>\n",
       "  </tbody>\n",
       "</table>\n",
       "<p>2000 rows × 11 columns</p>\n",
       "</div>"
      ],
      "text/plain": [
       "         ID Warehouse_block Mode_of_Shipment  Customer_care_calls  \\\n",
       "0      9000               F             Ship                    5   \n",
       "1      9001               D             Ship                    5   \n",
       "2      9002               F             Ship                    3   \n",
       "3      9003               A             Ship                    5   \n",
       "4      9004               B             Ship                    4   \n",
       "...     ...             ...              ...                  ...   \n",
       "1995  10995               A             Ship                    4   \n",
       "1996  10996               B             Ship                    4   \n",
       "1997  10997               C             Ship                    5   \n",
       "1998  10998               F             Ship                    5   \n",
       "1999  10999               D             Ship                    2   \n",
       "\n",
       "      Customer_rating  Cost_of_the_Product  Prior_purchases  \\\n",
       "0                   1                  189                2   \n",
       "1                   3                  150                2   \n",
       "2                   3                  200                3   \n",
       "3                   1                  133                2   \n",
       "4                   2                  260                3   \n",
       "...               ...                  ...              ...   \n",
       "1995                1                  252                5   \n",
       "1996                1                  232                5   \n",
       "1997                4                  242                5   \n",
       "1998                2                  223                6   \n",
       "1999                5                  155                5   \n",
       "\n",
       "     Product_importance Gender  Discount_offered  Weight_in_gms  \n",
       "0                medium      M                10           5248  \n",
       "1                  high      F                 9           4446  \n",
       "2                   low      M                 3           5739  \n",
       "3                medium      M                 1           4643  \n",
       "4                   low      M                 4           5504  \n",
       "...                 ...    ...               ...            ...  \n",
       "1995             medium      F                 1           1538  \n",
       "1996             medium      F                 6           1247  \n",
       "1997                low      F                 4           1155  \n",
       "1998             medium      M                 2           1210  \n",
       "1999                low      F                 6           1639  \n",
       "\n",
       "[2000 rows x 11 columns]"
      ]
     },
     "execution_count": 9,
     "metadata": {},
     "output_type": "execute_result"
    }
   ],
   "source": [
    "#Leemos los archivos xlsx en pandas\n",
    "\n",
    "E_test = pd.read_excel(r'C:\\Users\\Mimar\\Desktop\\P\\2\\Datathon\\E-Commerce_test.xlsx')\n",
    "E_test"
   ]
  },
  {
   "cell_type": "code",
   "execution_count": 10,
   "metadata": {},
   "outputs": [
    {
     "data": {
      "text/html": [
       "<div>\n",
       "<style scoped>\n",
       "    .dataframe tbody tr th:only-of-type {\n",
       "        vertical-align: middle;\n",
       "    }\n",
       "\n",
       "    .dataframe tbody tr th {\n",
       "        vertical-align: top;\n",
       "    }\n",
       "\n",
       "    .dataframe thead th {\n",
       "        text-align: right;\n",
       "    }\n",
       "</style>\n",
       "<table border=\"1\" class=\"dataframe\">\n",
       "  <thead>\n",
       "    <tr style=\"text-align: right;\">\n",
       "      <th></th>\n",
       "      <th>ID</th>\n",
       "      <th>Warehouse_block</th>\n",
       "      <th>Mode_of_Shipment</th>\n",
       "      <th>Customer_care_calls</th>\n",
       "      <th>Customer_rating</th>\n",
       "      <th>Cost_of_the_Product</th>\n",
       "      <th>Prior_purchases</th>\n",
       "      <th>Product_importance</th>\n",
       "      <th>Gender</th>\n",
       "      <th>Discount_offered</th>\n",
       "      <th>Weight_in_gms</th>\n",
       "    </tr>\n",
       "  </thead>\n",
       "  <tbody>\n",
       "  </tbody>\n",
       "</table>\n",
       "</div>"
      ],
      "text/plain": [
       "Empty DataFrame\n",
       "Columns: [ID, Warehouse_block, Mode_of_Shipment, Customer_care_calls, Customer_rating, Cost_of_the_Product, Prior_purchases, Product_importance, Gender, Discount_offered, Weight_in_gms]\n",
       "Index: []"
      ]
     },
     "execution_count": 10,
     "metadata": {},
     "output_type": "execute_result"
    }
   ],
   "source": [
    "#Buscamos en este dataframe si existen instancias duplicadas.\n",
    "E_test[E_test.duplicated()]\n"
   ]
  },
  {
   "cell_type": "code",
   "execution_count": 11,
   "metadata": {},
   "outputs": [
    {
     "data": {
      "text/html": [
       "<div>\n",
       "<style scoped>\n",
       "    .dataframe tbody tr th:only-of-type {\n",
       "        vertical-align: middle;\n",
       "    }\n",
       "\n",
       "    .dataframe tbody tr th {\n",
       "        vertical-align: top;\n",
       "    }\n",
       "\n",
       "    .dataframe thead th {\n",
       "        text-align: right;\n",
       "    }\n",
       "</style>\n",
       "<table border=\"1\" class=\"dataframe\">\n",
       "  <thead>\n",
       "    <tr style=\"text-align: right;\">\n",
       "      <th></th>\n",
       "      <th>ID</th>\n",
       "      <th>Warehouse_block</th>\n",
       "      <th>Mode_of_Shipment</th>\n",
       "      <th>Customer_care_calls</th>\n",
       "      <th>Customer_rating</th>\n",
       "      <th>Cost_of_the_Product</th>\n",
       "      <th>Prior_purchases</th>\n",
       "      <th>Product_importance</th>\n",
       "      <th>Gender</th>\n",
       "      <th>Discount_offered</th>\n",
       "      <th>Weight_in_gms</th>\n",
       "    </tr>\n",
       "  </thead>\n",
       "  <tbody>\n",
       "  </tbody>\n",
       "</table>\n",
       "</div>"
      ],
      "text/plain": [
       "Empty DataFrame\n",
       "Columns: [ID, Warehouse_block, Mode_of_Shipment, Customer_care_calls, Customer_rating, Cost_of_the_Product, Prior_purchases, Product_importance, Gender, Discount_offered, Weight_in_gms]\n",
       "Index: []"
      ]
     },
     "execution_count": 11,
     "metadata": {},
     "output_type": "execute_result"
    }
   ],
   "source": [
    "#Corroboramos, con alguna fila al azar de cuadro anterior.\n",
    "\n",
    "E_test[E_test.ID == 222]"
   ]
  },
  {
   "cell_type": "code",
   "execution_count": 12,
   "metadata": {},
   "outputs": [
    {
     "data": {
      "text/plain": [
       "0"
      ]
     },
     "execution_count": 12,
     "metadata": {},
     "output_type": "execute_result"
    }
   ],
   "source": [
    "#Corroboramos la cantidad de datos duplicados\n",
    "E_test.duplicated().sum()"
   ]
  },
  {
   "cell_type": "code",
   "execution_count": 13,
   "metadata": {},
   "outputs": [
    {
     "data": {
      "text/plain": [
       "ID                     0\n",
       "Warehouse_block        0\n",
       "Mode_of_Shipment       0\n",
       "Customer_care_calls    0\n",
       "Customer_rating        0\n",
       "Cost_of_the_Product    0\n",
       "Prior_purchases        0\n",
       "Product_importance     0\n",
       "Gender                 0\n",
       "Discount_offered       0\n",
       "Weight_in_gms          0\n",
       "dtype: int64"
      ]
     },
     "execution_count": 13,
     "metadata": {},
     "output_type": "execute_result"
    }
   ],
   "source": [
    "#Corroboramos los valores nulos\n",
    "E_test.isnull().sum()"
   ]
  },
  {
   "cell_type": "code",
   "execution_count": 14,
   "metadata": {},
   "outputs": [
    {
     "name": "stdout",
     "output_type": "stream",
     "text": [
      "<class 'pandas.core.frame.DataFrame'>\n",
      "RangeIndex: 2000 entries, 0 to 1999\n",
      "Data columns (total 11 columns):\n",
      " #   Column               Non-Null Count  Dtype \n",
      "---  ------               --------------  ----- \n",
      " 0   ID                   2000 non-null   int64 \n",
      " 1   Warehouse_block      2000 non-null   object\n",
      " 2   Mode_of_Shipment     2000 non-null   object\n",
      " 3   Customer_care_calls  2000 non-null   int64 \n",
      " 4   Customer_rating      2000 non-null   int64 \n",
      " 5   Cost_of_the_Product  2000 non-null   int64 \n",
      " 6   Prior_purchases      2000 non-null   int64 \n",
      " 7   Product_importance   2000 non-null   object\n",
      " 8   Gender               2000 non-null   object\n",
      " 9   Discount_offered     2000 non-null   int64 \n",
      " 10  Weight_in_gms        2000 non-null   int64 \n",
      "dtypes: int64(7), object(4)\n",
      "memory usage: 172.0+ KB\n"
     ]
    }
   ],
   "source": [
    "#Después de esto, corroboramos el tipo de datos para cada columna\n",
    "E_test.info()"
   ]
  },
  {
   "cell_type": "markdown",
   "metadata": {},
   "source": [
    "## Análisis de los datos: Correlación\n"
   ]
  },
  {
   "cell_type": "code",
   "execution_count": null,
   "metadata": {},
   "outputs": [],
   "source": [
    "#En el archivo test vemos que variables tienen correlacion unas con otras.\n",
    "corr_df = E_train.corr(method='pearson')\n",
    "\n",
    "\n",
    "plt.figure(figsize=(8,6))\n",
    "sns.heatmap(corr_df, annot=True)\n",
    "plt.show()"
   ]
  },
  {
   "cell_type": "code",
   "execution_count": 15,
   "metadata": {},
   "outputs": [],
   "source": [
    "#Quitamos las columas ID en ambos datasets\n",
    "\n",
    "E_train = E_train.drop(['ID'], axis=1)\n",
    "E_test = E_test.drop(['ID'], axis=1)"
   ]
  },
  {
   "cell_type": "code",
   "execution_count": 16,
   "metadata": {},
   "outputs": [],
   "source": [
    "#Enseguida, a los datos de entrenamiento separamos los datos target ('Reached.on.Time_Y.N') para dejar solo los datos de entrenamiento en un solo Dataframe\n",
    "\n",
    "X = E_train.drop(columns='Reached.on.Time_Y.N', axis=1)\n",
    "Y = E_train['Reached.on.Time_Y.N']"
   ]
  },
  {
   "cell_type": "markdown",
   "metadata": {},
   "source": [
    "## Transformación de datos de tipo categóricos"
   ]
  },
  {
   "cell_type": "code",
   "execution_count": 17,
   "metadata": {},
   "outputs": [],
   "source": [
    "#En la data tenemos datos de tipo categoricos, por lo que utilizaremos\n",
    "#la librería de scikitlearn para aplicar algunas funciones, de preporcesamiento.\n",
    "from sklearn.preprocessing import LabelEncoder, MinMaxScaler, OrdinalEncoder, OneHotEncoder\n",
    "from sklearn.pipeline import Pipeline\n",
    "from sklearn.compose import ColumnTransformer\n"
   ]
  },
  {
   "cell_type": "code",
   "execution_count": 18,
   "metadata": {},
   "outputs": [],
   "source": [
    "#Preparamos la data de entrenamiento, ordenandola como datos categóricos (ordinales y nominales) y como datos númericos (escalables):\n",
    "ordinal_train = ['Gender', 'Product_importance']\n",
    "nominal_train = ['Warehouse_block', 'Mode_of_Shipment']\n",
    "scalable_train = ['Cost_of_the_Product', 'Discount_offered', 'Weight_in_gms']"
   ]
  },
  {
   "cell_type": "code",
   "execution_count": 21,
   "metadata": {},
   "outputs": [],
   "source": [
    "#Transformamos la toda la data contenida posible a datos númericos para que el entrenamiento pueda ser más profundo y la predicción sea más precisa\n",
    "\n",
    "transf_ordinal = Pipeline([('ordinal_train',OrdinalEncoder(categories='auto'))])\n",
    "\n",
    "transf_nominal = Pipeline([('nominal_train',OneHotEncoder())])\n",
    "\n",
    "transf_scalable = Pipeline([('scalable_train',MinMaxScaler())])\n",
    "\n",
    "\n",
    "#Tranformando la data\n",
    "Transform = ColumnTransformer(transformers=[\n",
    "                                ('ordinal',transf_ordinal, ordinal_train),\n",
    "                                ('nominal',transf_nominal, nominal_train),\n",
    "                                ('scalable',transf_scalable, scalable_train)],\n",
    "                                sparse_threshold=0)"
   ]
  },
  {
   "cell_type": "code",
   "execution_count": 22,
   "metadata": {},
   "outputs": [],
   "source": [
    "#Transformación de los datos obtenidos a un dataframe\n",
    "X_train = pd.DataFrame(Transform.fit_transform(X))\n",
    "\n"
   ]
  },
  {
   "cell_type": "markdown",
   "metadata": {},
   "source": []
  },
  {
   "cell_type": "code",
   "execution_count": 23,
   "metadata": {},
   "outputs": [],
   "source": [
    "#Preparamos la data de testeo, como antes, ordenandola como datos categóricos (ordinales y nominales) y como datos númericos (escalables):\n",
    "ordinal_test = ['Gender','Product_importance']\n",
    "nominal_test = ['Warehouse_block','Mode_of_Shipment']\n",
    "scal_test = ['Cost_of_the_Product','Discount_offered','Weight_in_gms']"
   ]
  },
  {
   "cell_type": "code",
   "execution_count": 25,
   "metadata": {},
   "outputs": [],
   "source": [
    "#También, transformamos la toda la data contenida posible a datos númericos para que el entrenamiento pueda ser más profundo y la predicción sea más precisa\n",
    "\n",
    "transf_ordinal_test = Pipeline([('ordinal',OrdinalEncoder(categories='auto'))])\n",
    "\n",
    "transf_nominal_test = Pipeline([('nominal',OneHotEncoder())])\n",
    "\n",
    "transf_scalable_test = Pipeline([('scaler',MinMaxScaler())])\n",
    "\n",
    "\n",
    "#Tranformando la data\n",
    "Transform_test = ColumnTransformer(transformers=[\n",
    "                                ('ordinal',transf_ordinal, ordinal_test),\n",
    "                                ('nominal',transf_nominal, nominal_test),\n",
    "                                ('scal',transf_scalable,scal_test)],\n",
    "                                sparse_threshold=0)"
   ]
  },
  {
   "cell_type": "code",
   "execution_count": 26,
   "metadata": {},
   "outputs": [],
   "source": [
    "#Transformación de los datos obtenidos a un dataframe\n",
    "Dtest = pd.DataFrame(Transform_test.fit_transform(X))"
   ]
  },
  {
   "cell_type": "code",
   "execution_count": null,
   "metadata": {},
   "outputs": [],
   "source": [
    "#Para el preprocesamiento de datos, utilizamos la funcion de LabelEncoder que nos permite\n",
    "#catalogar las variables categoricas contenidas en las columnas en numeros.\n",
    "#En este caso llamamos dicha funcion para reducir a numeros las columnas \"Warehouse_block\",\n",
    "# \"Mode_of_Shipment\", \"Product_importance\" y \"Gender\".\n",
    "encoder = LabelEncoder()\n",
    "E_train['Warehouse_block'] = encoder.fit_transform(E_train['Warehouse_block'])\n",
    "E_train['Mode_of_Shipment'] = encoder.fit_transform(E_train['Mode_of_Shipment'])\n",
    "E_train['Product_importance'] = encoder.fit_transform(E_train['Product_importance'])\n",
    "E_train['Gender'] = encoder.fit_transform(E_train['Gender'])\n",
    "\n",
    "E_train.head()"
   ]
  },
  {
   "cell_type": "markdown",
   "metadata": {},
   "source": [
    "De modo que nos queda las variables de la siguiente forma:\n",
    "-Warehouse -> [0=A, 1=B, 2=C, 3=D, 4=E, 5=F]\n",
    "-Mode_of_shipment -> [0=Flight, 1=Road, 2=Ship]\n",
    "-Product_importance -> [0=high, 1=low, 2=med]\n",
    "-Gender -> [0=F,1=M]\n",
    "\n",
    "\n",
    "Esto nos permite realizar el modelaje de una manera mucho más sencilla."
   ]
  },
  {
   "cell_type": "code",
   "execution_count": null,
   "metadata": {},
   "outputs": [],
   "source": [
    "E_train"
   ]
  },
  {
   "cell_type": "code",
   "execution_count": null,
   "metadata": {},
   "outputs": [],
   "source": [
    "#Para el preprocesamiento de datos, utilizamos la funcion de LabelEncoder que nos permite\n",
    "#catalogar las variables categoricas contenidas en las columnas en numeros.\n",
    "#En este caso llamamos dicha funcion para reducir a numeros las columnas \"Warehouse_block\",\n",
    "# \"Mode_of_Shipment\", \"Product_importance\" y \"Gender\".\n",
    "encoder = LabelEncoder()\n",
    "E_test['Warehouse_block'] = encoder.fit_transform(E_test['Warehouse_block'])\n",
    "E_test['Mode_of_Shipment'] = encoder.fit_transform(E_test['Mode_of_Shipment'])\n",
    "E_test['Product_importance'] = encoder.fit_transform(E_test['Product_importance'])\n",
    "E_test['Gender'] = encoder.fit_transform(E_test['Gender'])\n",
    "\n",
    "E_test.head()"
   ]
  },
  {
   "cell_type": "code",
   "execution_count": null,
   "metadata": {},
   "outputs": [],
   "source": [
    "E_test"
   ]
  },
  {
   "cell_type": "code",
   "execution_count": null,
   "metadata": {},
   "outputs": [],
   "source": [
    "#Revisamos la distribucion de la columa 'Reached.on.Time_Y.N'\n",
    "E_train['Reached.on.Time_Y.N'].value_counts()"
   ]
  },
  {
   "cell_type": "code",
   "execution_count": null,
   "metadata": {},
   "outputs": [],
   "source": [
    "#importamos \"ColumnTransformer\" y \"StandarScaler\" Para normalizar las columnas \"Cost_of_the_Product\" y \"Weight_in_gms\"\n",
    "from sklearn.compose import ColumnTransformer\n",
    "from sklearn.preprocessing import StandardScaler\n",
    "\n"
   ]
  },
  {
   "cell_type": "code",
   "execution_count": null,
   "metadata": {},
   "outputs": [],
   "source": [
    "#Importamos la librería para poder segmentar nuestra informacion y Separamos nuestras variables a entrenar y a testear\n",
    "from sklearn.model_selection import train_test_split\n"
   ]
  },
  {
   "cell_type": "code",
   "execution_count": null,
   "metadata": {},
   "outputs": [],
   "source": [
    "X"
   ]
  },
  {
   "cell_type": "code",
   "execution_count": null,
   "metadata": {},
   "outputs": [],
   "source": [
    "Y"
   ]
  },
  {
   "cell_type": "code",
   "execution_count": null,
   "metadata": {},
   "outputs": [],
   "source": [
    "#Estandarizamos los datos de X\n",
    "col_to_scale = ['Warehouse_block','Mode_of_Shipment','Customer_care_calls','Customer_rating','Cost_of_the_Product','Prior_purchases','Product_importance','Gender','Discount_offered' ,'Weight_in_gms']\n",
    "\n",
    "scaler = StandardScaler()\n",
    "scaler.fit(X[col_to_scale])\n",
    "\n",
    "X[col_to_scale] = scaler.transform(X[col_to_scale])\n",
    "X"
   ]
  },
  {
   "cell_type": "code",
   "execution_count": null,
   "metadata": {},
   "outputs": [],
   "source": [
    "#Separamos la data de entrenamiento y testeo\n",
    "#X_train, X_test, Y_train, Y_test = train_test_split(X, Y, test_size=0.35, stratify= Y, random_state=7)\n",
    "X_train, X_test, Y_train, Y_test = train_test_split(X, Y, test_size=0.35, random_state=7)"
   ]
  },
  {
   "cell_type": "code",
   "execution_count": null,
   "metadata": {},
   "outputs": [],
   "source": [
    "print(X.shape, X_train.shape, X_test.shape)"
   ]
  },
  {
   "cell_type": "markdown",
   "metadata": {},
   "source": [
    "Ya con esto realizamos el análisis de los datos mediante correlación."
   ]
  },
  {
   "cell_type": "code",
   "execution_count": null,
   "metadata": {},
   "outputs": [],
   "source": []
  },
  {
   "cell_type": "markdown",
   "metadata": {},
   "source": [
    "## Análisis de los datos: correlación"
   ]
  },
  {
   "cell_type": "code",
   "execution_count": null,
   "metadata": {},
   "outputs": [],
   "source": [
    "#En el archivo test vemos que variables tienen correlacion unas con otras.\n",
    "corr_df = E_train.corr(method='pearson')\n",
    "\n",
    "\n",
    "plt.figure(figsize=(8,6))\n",
    "sns.heatmap(corr_df, annot=True)\n",
    "plt.show()"
   ]
  },
  {
   "cell_type": "code",
   "execution_count": null,
   "metadata": {},
   "outputs": [],
   "source": [
    "# Viendo esta correlación procedemos a designar nuestros valores para entrenamiento (train) \n",
    "# y prueba (test)"
   ]
  },
  {
   "cell_type": "markdown",
   "metadata": {},
   "source": [
    "# Entrenando el modelo"
   ]
  },
  {
   "cell_type": "markdown",
   "metadata": {},
   "source": [
    "## Regresión lógistica"
   ]
  },
  {
   "cell_type": "code",
   "execution_count": 27,
   "metadata": {},
   "outputs": [],
   "source": [
    "#Importamos la librería para usar el modelo de regresión linear\n",
    "from sklearn.linear_model import LogisticRegression\n",
    "from sklearn.metrics import accuracy_score, recall_score"
   ]
  },
  {
   "cell_type": "code",
   "execution_count": 28,
   "metadata": {},
   "outputs": [],
   "source": [
    "model = LogisticRegression()"
   ]
  },
  {
   "cell_type": "code",
   "execution_count": 29,
   "metadata": {},
   "outputs": [
    {
     "data": {
      "text/html": [
       "<style>#sk-container-id-1 {color: black;background-color: white;}#sk-container-id-1 pre{padding: 0;}#sk-container-id-1 div.sk-toggleable {background-color: white;}#sk-container-id-1 label.sk-toggleable__label {cursor: pointer;display: block;width: 100%;margin-bottom: 0;padding: 0.3em;box-sizing: border-box;text-align: center;}#sk-container-id-1 label.sk-toggleable__label-arrow:before {content: \"▸\";float: left;margin-right: 0.25em;color: #696969;}#sk-container-id-1 label.sk-toggleable__label-arrow:hover:before {color: black;}#sk-container-id-1 div.sk-estimator:hover label.sk-toggleable__label-arrow:before {color: black;}#sk-container-id-1 div.sk-toggleable__content {max-height: 0;max-width: 0;overflow: hidden;text-align: left;background-color: #f0f8ff;}#sk-container-id-1 div.sk-toggleable__content pre {margin: 0.2em;color: black;border-radius: 0.25em;background-color: #f0f8ff;}#sk-container-id-1 input.sk-toggleable__control:checked~div.sk-toggleable__content {max-height: 200px;max-width: 100%;overflow: auto;}#sk-container-id-1 input.sk-toggleable__control:checked~label.sk-toggleable__label-arrow:before {content: \"▾\";}#sk-container-id-1 div.sk-estimator input.sk-toggleable__control:checked~label.sk-toggleable__label {background-color: #d4ebff;}#sk-container-id-1 div.sk-label input.sk-toggleable__control:checked~label.sk-toggleable__label {background-color: #d4ebff;}#sk-container-id-1 input.sk-hidden--visually {border: 0;clip: rect(1px 1px 1px 1px);clip: rect(1px, 1px, 1px, 1px);height: 1px;margin: -1px;overflow: hidden;padding: 0;position: absolute;width: 1px;}#sk-container-id-1 div.sk-estimator {font-family: monospace;background-color: #f0f8ff;border: 1px dotted black;border-radius: 0.25em;box-sizing: border-box;margin-bottom: 0.5em;}#sk-container-id-1 div.sk-estimator:hover {background-color: #d4ebff;}#sk-container-id-1 div.sk-parallel-item::after {content: \"\";width: 100%;border-bottom: 1px solid gray;flex-grow: 1;}#sk-container-id-1 div.sk-label:hover label.sk-toggleable__label {background-color: #d4ebff;}#sk-container-id-1 div.sk-serial::before {content: \"\";position: absolute;border-left: 1px solid gray;box-sizing: border-box;top: 0;bottom: 0;left: 50%;z-index: 0;}#sk-container-id-1 div.sk-serial {display: flex;flex-direction: column;align-items: center;background-color: white;padding-right: 0.2em;padding-left: 0.2em;position: relative;}#sk-container-id-1 div.sk-item {position: relative;z-index: 1;}#sk-container-id-1 div.sk-parallel {display: flex;align-items: stretch;justify-content: center;background-color: white;position: relative;}#sk-container-id-1 div.sk-item::before, #sk-container-id-1 div.sk-parallel-item::before {content: \"\";position: absolute;border-left: 1px solid gray;box-sizing: border-box;top: 0;bottom: 0;left: 50%;z-index: -1;}#sk-container-id-1 div.sk-parallel-item {display: flex;flex-direction: column;z-index: 1;position: relative;background-color: white;}#sk-container-id-1 div.sk-parallel-item:first-child::after {align-self: flex-end;width: 50%;}#sk-container-id-1 div.sk-parallel-item:last-child::after {align-self: flex-start;width: 50%;}#sk-container-id-1 div.sk-parallel-item:only-child::after {width: 0;}#sk-container-id-1 div.sk-dashed-wrapped {border: 1px dashed gray;margin: 0 0.4em 0.5em 0.4em;box-sizing: border-box;padding-bottom: 0.4em;background-color: white;}#sk-container-id-1 div.sk-label label {font-family: monospace;font-weight: bold;display: inline-block;line-height: 1.2em;}#sk-container-id-1 div.sk-label-container {text-align: center;}#sk-container-id-1 div.sk-container {/* jupyter's `normalize.less` sets `[hidden] { display: none; }` but bootstrap.min.css set `[hidden] { display: none !important; }` so we also need the `!important` here to be able to override the default hidden behavior on the sphinx rendered scikit-learn.org. See: https://github.com/scikit-learn/scikit-learn/issues/21755 */display: inline-block !important;position: relative;}#sk-container-id-1 div.sk-text-repr-fallback {display: none;}</style><div id=\"sk-container-id-1\" class=\"sk-top-container\"><div class=\"sk-text-repr-fallback\"><pre>LogisticRegression()</pre><b>In a Jupyter environment, please rerun this cell to show the HTML representation or trust the notebook. <br />On GitHub, the HTML representation is unable to render, please try loading this page with nbviewer.org.</b></div><div class=\"sk-container\" hidden><div class=\"sk-item\"><div class=\"sk-estimator sk-toggleable\"><input class=\"sk-toggleable__control sk-hidden--visually\" id=\"sk-estimator-id-1\" type=\"checkbox\" checked><label for=\"sk-estimator-id-1\" class=\"sk-toggleable__label sk-toggleable__label-arrow\">LogisticRegression</label><div class=\"sk-toggleable__content\"><pre>LogisticRegression()</pre></div></div></div></div></div>"
      ],
      "text/plain": [
       "LogisticRegression()"
      ]
     },
     "execution_count": 29,
     "metadata": {},
     "output_type": "execute_result"
    }
   ],
   "source": [
    "#Entrenando el modelo de Regresion logistica con la train data.\n",
    "\n",
    "model.fit(X_train, Y)\n"
   ]
  },
  {
   "cell_type": "markdown",
   "metadata": {},
   "source": [
    "# Evaluacion del modelo"
   ]
  },
  {
   "cell_type": "markdown",
   "metadata": {},
   "source": []
  },
  {
   "cell_type": "code",
   "execution_count": 36,
   "metadata": {},
   "outputs": [],
   "source": [
    "# Puntaje de precisión sobre la data de entrenamiento\n",
    "\n",
    "# X_train_prediction = model.predict(X_train)\n",
    "# training_data_accuracy = accuracy_score(X_train_prediction, Y_train)\n",
    "\n",
    "X_train_prediction = model.predict(X_train)\n",
    "training_data_accuracy = accuracy_score(X_train_prediction, Y)\n",
    "\n"
   ]
  },
  {
   "cell_type": "code",
   "execution_count": 37,
   "metadata": {},
   "outputs": [
    {
     "name": "stdout",
     "output_type": "stream",
     "text": [
      "0.6695188354261584\n"
     ]
    }
   ],
   "source": [
    "print(training_data_accuracy)"
   ]
  },
  {
   "cell_type": "code",
   "execution_count": null,
   "metadata": {},
   "outputs": [],
   "source": [
    "# Puntaje de precisión sobre la data de testeo\n",
    "\n",
    "X_test_prediction = model.predict(X_test)\n",
    "test_data_accuracy = accuracy_score(X_test_prediction, Y_test)"
   ]
  },
  {
   "cell_type": "code",
   "execution_count": null,
   "metadata": {},
   "outputs": [],
   "source": [
    "print(test_data_accuracy)"
   ]
  },
  {
   "cell_type": "markdown",
   "metadata": {},
   "source": [
    "# Armando el modelo predictivo"
   ]
  },
  {
   "cell_type": "code",
   "execution_count": 31,
   "metadata": {},
   "outputs": [
    {
     "data": {
      "text/plain": [
       "array([1, 1, 1, ..., 0, 0, 0], dtype=int64)"
      ]
     },
     "execution_count": 31,
     "metadata": {},
     "output_type": "execute_result"
    }
   ],
   "source": [
    "\n",
    "Y_pred = model.predict(Dtest)\n",
    "\n",
    "Y_pred"
   ]
  },
  {
   "cell_type": "code",
   "execution_count": 32,
   "metadata": {},
   "outputs": [
    {
     "data": {
      "text/html": [
       "<div>\n",
       "<style scoped>\n",
       "    .dataframe tbody tr th:only-of-type {\n",
       "        vertical-align: middle;\n",
       "    }\n",
       "\n",
       "    .dataframe tbody tr th {\n",
       "        vertical-align: top;\n",
       "    }\n",
       "\n",
       "    .dataframe thead th {\n",
       "        text-align: right;\n",
       "    }\n",
       "</style>\n",
       "<table border=\"1\" class=\"dataframe\">\n",
       "  <thead>\n",
       "    <tr style=\"text-align: right;\">\n",
       "      <th></th>\n",
       "      <th>pred</th>\n",
       "    </tr>\n",
       "  </thead>\n",
       "  <tbody>\n",
       "    <tr>\n",
       "      <th>0</th>\n",
       "      <td>1</td>\n",
       "    </tr>\n",
       "    <tr>\n",
       "      <th>1</th>\n",
       "      <td>1</td>\n",
       "    </tr>\n",
       "    <tr>\n",
       "      <th>2</th>\n",
       "      <td>1</td>\n",
       "    </tr>\n",
       "    <tr>\n",
       "      <th>3</th>\n",
       "      <td>1</td>\n",
       "    </tr>\n",
       "    <tr>\n",
       "      <th>4</th>\n",
       "      <td>1</td>\n",
       "    </tr>\n",
       "    <tr>\n",
       "      <th>...</th>\n",
       "      <td>...</td>\n",
       "    </tr>\n",
       "    <tr>\n",
       "      <th>8994</th>\n",
       "      <td>0</td>\n",
       "    </tr>\n",
       "    <tr>\n",
       "      <th>8995</th>\n",
       "      <td>0</td>\n",
       "    </tr>\n",
       "    <tr>\n",
       "      <th>8996</th>\n",
       "      <td>0</td>\n",
       "    </tr>\n",
       "    <tr>\n",
       "      <th>8997</th>\n",
       "      <td>0</td>\n",
       "    </tr>\n",
       "    <tr>\n",
       "      <th>8998</th>\n",
       "      <td>0</td>\n",
       "    </tr>\n",
       "  </tbody>\n",
       "</table>\n",
       "<p>8999 rows × 1 columns</p>\n",
       "</div>"
      ],
      "text/plain": [
       "      pred\n",
       "0        1\n",
       "1        1\n",
       "2        1\n",
       "3        1\n",
       "4        1\n",
       "...    ...\n",
       "8994     0\n",
       "8995     0\n",
       "8996     0\n",
       "8997     0\n",
       "8998     0\n",
       "\n",
       "[8999 rows x 1 columns]"
      ]
     },
     "execution_count": 32,
     "metadata": {},
     "output_type": "execute_result"
    }
   ],
   "source": [
    "DataR = pd.DataFrame(Y_pred, columns=[\"pred\"])\n",
    "DataR"
   ]
  },
  {
   "cell_type": "code",
   "execution_count": 33,
   "metadata": {},
   "outputs": [
    {
     "name": "stdout",
     "output_type": "stream",
     "text": [
      "{0: 3182, 1: 5817}\n"
     ]
    }
   ],
   "source": [
    "unique, counts = np.unique(Y_pred, return_counts=True)\n",
    "print(dict(zip(unique, counts)))"
   ]
  },
  {
   "cell_type": "code",
   "execution_count": null,
   "metadata": {},
   "outputs": [],
   "source": [
    "# Matriz de confusión \n",
    "\n",
    "from sklearn.metrics import confusion_matrix, classification_report\n",
    "cm = confusion_matrix(Y_Test, Y_pred)\n",
    "\n",
    "fig, ax = plt.subplots(figsize=(12,8))\n",
    "ax.matshow(cm)\n",
    "plt.title('Matriz de Confusión', fontsize=20)\n",
    "plt.ylabel('Etiqueta Verdadera', fontsize=15)\n",
    "plt.xlabel('Etiqueta Predicha', fontsize=15)\n",
    "for (i, j), z in np.ndenumerate(cm):\n",
    "    ax.text(j, i, '{:0.1f}'.format(z), ha='center', va='center')"
   ]
  },
  {
   "cell_type": "code",
   "execution_count": 34,
   "metadata": {},
   "outputs": [
    {
     "data": {
      "text/plain": [
       "array([0.53170732, 0.74855744])"
      ]
     },
     "execution_count": 34,
     "metadata": {},
     "output_type": "execute_result"
    }
   ],
   "source": [
    "recall_score(Y, Y_pred, average=None)"
   ]
  },
  {
   "cell_type": "code",
   "execution_count": 35,
   "metadata": {},
   "outputs": [],
   "source": [
    "#Guardando las predicciones en csv\n",
    "DataR.to_csv('Grayfox9.csv', index=False)"
   ]
  }
 ],
 "metadata": {
  "kernelspec": {
   "display_name": "Python 3.10.4 ('HenryPI')",
   "language": "python",
   "name": "python3"
  },
  "language_info": {
   "codemirror_mode": {
    "name": "ipython",
    "version": 3
   },
   "file_extension": ".py",
   "mimetype": "text/x-python",
   "name": "python",
   "nbconvert_exporter": "python",
   "pygments_lexer": "ipython3",
   "version": "3.10.4"
  },
  "orig_nbformat": 4,
  "vscode": {
   "interpreter": {
    "hash": "1f6caddeb3520a9fea2776bec1a1c5d0796923d23a808a7cc34e950d6f36cfa8"
   }
  }
 },
 "nbformat": 4,
 "nbformat_minor": 2
}
